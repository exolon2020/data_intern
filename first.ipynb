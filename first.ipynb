{
 "cells": [
  {
   "cell_type": "code",
   "execution_count": 879,
   "id": "b372af66",
   "metadata": {},
   "outputs": [],
   "source": [
    "import numpy as np\n",
    "import pandahouse as ph\n",
    "from scipy.stats import chi2_contingency, chi2\n",
    "import pandas as pd\n",
    "import seaborn as sns\n",
    "from scipy.stats import norm, mannwhitneyu, shapiro\n",
    "import matplotlib.pyplot as plt\n",
    "from tqdm.auto import tqdm\n",
    "plt.style.use('ggplot')"
   ]
  },
  {
   "cell_type": "markdown",
   "id": "7ed4a5d3-b244-47b5-8840-2d3fb1b341b8",
   "metadata": {},
   "source": [
    "## Задание 1.\n",
    "\n",
    "В ходе тестирования одной гипотезы целевой группе была предложена новая механика оплаты услуг на сайте, у контрольной группы оставалась базовая механика. В качестве задания Вам необходимо проанализировать итоги эксперимента и сделать вывод, стоит ли запускать новую механику оплаты на всех пользователей."
   ]
  },
  {
   "cell_type": "code",
   "execution_count": 880,
   "id": "6cd7371a-126c-44cd-b8a4-f7252ae2426e",
   "metadata": {},
   "outputs": [],
   "source": [
    "#%load_ext pycodestyle_magic"
   ]
  },
  {
   "cell_type": "code",
   "execution_count": 881,
   "id": "83d740d0-49ae-4f6c-a21f-63233efa7d8a",
   "metadata": {},
   "outputs": [],
   "source": [
    "#%pycodestyle_off"
   ]
  },
  {
   "cell_type": "code",
   "execution_count": 882,
   "id": "d81ce71c",
   "metadata": {},
   "outputs": [],
   "source": [
    "df1_path = 'Проект_2_groups.csv'\n",
    "df2_path = 'Проект_2_group_add.csv'\n",
    "df3_path = 'Проект_2_active_studs.csv'\n",
    "df4_path = 'Проект_2_checks.csv'"
   ]
  },
  {
   "cell_type": "code",
   "execution_count": null,
   "id": "c9015394-7be4-44c8-a638-f827c3c5ac62",
   "metadata": {},
   "outputs": [],
   "source": []
  },
  {
   "cell_type": "markdown",
   "id": "bb5b904f",
   "metadata": {},
   "source": [
    "<b>groups.csv - файл с информацией о принадлежности пользователя к контрольной или экспериментальной группе (А – контроль, B – целевая группа) \n",
    "\n",
    "<b>groups_add.csv - дополнительный файл с пользователями, который вам прислали спустя 2 дня после передачи данных</b>\n",
    "\n",
    "<b>active_studs.csv - файл с информацией о пользователях, которые зашли на платформу в дни проведения эксперимента.</b> \n",
    "\n",
    "<b>checks.csv - файл с информацией об оплатах пользователей в дни проведения эксперимента.</b> "
   ]
  },
  {
   "cell_type": "markdown",
   "id": "5ca614d1",
   "metadata": {},
   "source": [
    "### 1.Загрузка и исследование датафреймов."
   ]
  },
  {
   "cell_type": "code",
   "execution_count": 883,
   "id": "41c1da06",
   "metadata": {},
   "outputs": [],
   "source": [
    "df_groups = pd.read_csv(df1_path, sep=';')"
   ]
  },
  {
   "cell_type": "code",
   "execution_count": 884,
   "id": "aeddeeb5",
   "metadata": {},
   "outputs": [
    {
     "data": {
      "text/html": [
       "<div>\n",
       "<style scoped>\n",
       "    .dataframe tbody tr th:only-of-type {\n",
       "        vertical-align: middle;\n",
       "    }\n",
       "\n",
       "    .dataframe tbody tr th {\n",
       "        vertical-align: top;\n",
       "    }\n",
       "\n",
       "    .dataframe thead th {\n",
       "        text-align: right;\n",
       "    }\n",
       "</style>\n",
       "<table border=\"1\" class=\"dataframe\">\n",
       "  <thead>\n",
       "    <tr style=\"text-align: right;\">\n",
       "      <th></th>\n",
       "      <th>id</th>\n",
       "      <th>grp</th>\n",
       "    </tr>\n",
       "  </thead>\n",
       "  <tbody>\n",
       "    <tr>\n",
       "      <th>0</th>\n",
       "      <td>1489</td>\n",
       "      <td>B</td>\n",
       "    </tr>\n",
       "    <tr>\n",
       "      <th>1</th>\n",
       "      <td>1627</td>\n",
       "      <td>A</td>\n",
       "    </tr>\n",
       "    <tr>\n",
       "      <th>2</th>\n",
       "      <td>1768</td>\n",
       "      <td>B</td>\n",
       "    </tr>\n",
       "  </tbody>\n",
       "</table>\n",
       "</div>"
      ],
      "text/plain": [
       "     id grp\n",
       "0  1489   B\n",
       "1  1627   A\n",
       "2  1768   B"
      ]
     },
     "execution_count": 884,
     "metadata": {},
     "output_type": "execute_result"
    }
   ],
   "source": [
    "df_groups.head(3)"
   ]
  },
  {
   "cell_type": "code",
   "execution_count": 885,
   "id": "4332cc99",
   "metadata": {},
   "outputs": [
    {
     "data": {
      "text/plain": [
       "id     0\n",
       "grp    0\n",
       "dtype: int64"
      ]
     },
     "execution_count": 885,
     "metadata": {},
     "output_type": "execute_result"
    }
   ],
   "source": [
    "df_groups.isna().sum()"
   ]
  },
  {
   "cell_type": "code",
   "execution_count": 886,
   "id": "ec9c4b25",
   "metadata": {},
   "outputs": [
    {
     "data": {
      "text/plain": [
       "(74484, 2)"
      ]
     },
     "execution_count": 886,
     "metadata": {},
     "output_type": "execute_result"
    }
   ],
   "source": [
    "df_groups.shape"
   ]
  },
  {
   "cell_type": "code",
   "execution_count": 887,
   "id": "5a93280e",
   "metadata": {},
   "outputs": [],
   "source": [
    "df_add_groups = pd.read_csv(df2_path)"
   ]
  },
  {
   "cell_type": "code",
   "execution_count": 888,
   "id": "b2c397b0",
   "metadata": {},
   "outputs": [
    {
     "data": {
      "text/html": [
       "<div>\n",
       "<style scoped>\n",
       "    .dataframe tbody tr th:only-of-type {\n",
       "        vertical-align: middle;\n",
       "    }\n",
       "\n",
       "    .dataframe tbody tr th {\n",
       "        vertical-align: top;\n",
       "    }\n",
       "\n",
       "    .dataframe thead th {\n",
       "        text-align: right;\n",
       "    }\n",
       "</style>\n",
       "<table border=\"1\" class=\"dataframe\">\n",
       "  <thead>\n",
       "    <tr style=\"text-align: right;\">\n",
       "      <th></th>\n",
       "      <th>id</th>\n",
       "      <th>grp</th>\n",
       "    </tr>\n",
       "  </thead>\n",
       "  <tbody>\n",
       "    <tr>\n",
       "      <th>0</th>\n",
       "      <td>5694584</td>\n",
       "      <td>B</td>\n",
       "    </tr>\n",
       "    <tr>\n",
       "      <th>1</th>\n",
       "      <td>5694830</td>\n",
       "      <td>B</td>\n",
       "    </tr>\n",
       "    <tr>\n",
       "      <th>2</th>\n",
       "      <td>5695057</td>\n",
       "      <td>B</td>\n",
       "    </tr>\n",
       "  </tbody>\n",
       "</table>\n",
       "</div>"
      ],
      "text/plain": [
       "        id grp\n",
       "0  5694584   B\n",
       "1  5694830   B\n",
       "2  5695057   B"
      ]
     },
     "execution_count": 888,
     "metadata": {},
     "output_type": "execute_result"
    }
   ],
   "source": [
    "df_add_groups.head(3)"
   ]
  },
  {
   "cell_type": "code",
   "execution_count": 889,
   "id": "e8a9b9ba",
   "metadata": {},
   "outputs": [
    {
     "data": {
      "text/plain": [
       "(92, 2)"
      ]
     },
     "execution_count": 889,
     "metadata": {},
     "output_type": "execute_result"
    }
   ],
   "source": [
    "df_add_groups.shape"
   ]
  },
  {
   "cell_type": "code",
   "execution_count": 890,
   "id": "a0e35500",
   "metadata": {},
   "outputs": [],
   "source": [
    "df_active = pd.read_csv(df3_path)"
   ]
  },
  {
   "cell_type": "code",
   "execution_count": 891,
   "id": "02316fa2",
   "metadata": {},
   "outputs": [
    {
     "data": {
      "text/html": [
       "<div>\n",
       "<style scoped>\n",
       "    .dataframe tbody tr th:only-of-type {\n",
       "        vertical-align: middle;\n",
       "    }\n",
       "\n",
       "    .dataframe tbody tr th {\n",
       "        vertical-align: top;\n",
       "    }\n",
       "\n",
       "    .dataframe thead th {\n",
       "        text-align: right;\n",
       "    }\n",
       "</style>\n",
       "<table border=\"1\" class=\"dataframe\">\n",
       "  <thead>\n",
       "    <tr style=\"text-align: right;\">\n",
       "      <th></th>\n",
       "      <th>student_id</th>\n",
       "    </tr>\n",
       "  </thead>\n",
       "  <tbody>\n",
       "    <tr>\n",
       "      <th>0</th>\n",
       "      <td>581585</td>\n",
       "    </tr>\n",
       "    <tr>\n",
       "      <th>1</th>\n",
       "      <td>5723133</td>\n",
       "    </tr>\n",
       "    <tr>\n",
       "      <th>2</th>\n",
       "      <td>3276743</td>\n",
       "    </tr>\n",
       "  </tbody>\n",
       "</table>\n",
       "</div>"
      ],
      "text/plain": [
       "   student_id\n",
       "0      581585\n",
       "1     5723133\n",
       "2     3276743"
      ]
     },
     "execution_count": 891,
     "metadata": {},
     "output_type": "execute_result"
    }
   ],
   "source": [
    "df_active.head(3)"
   ]
  },
  {
   "cell_type": "code",
   "execution_count": 892,
   "id": "e6cd5f2f",
   "metadata": {},
   "outputs": [],
   "source": [
    "df_checks = pd.read_csv(df4_path, sep=';')"
   ]
  },
  {
   "cell_type": "code",
   "execution_count": 893,
   "id": "0d4eb03c",
   "metadata": {},
   "outputs": [
    {
     "data": {
      "text/html": [
       "<div>\n",
       "<style scoped>\n",
       "    .dataframe tbody tr th:only-of-type {\n",
       "        vertical-align: middle;\n",
       "    }\n",
       "\n",
       "    .dataframe tbody tr th {\n",
       "        vertical-align: top;\n",
       "    }\n",
       "\n",
       "    .dataframe thead th {\n",
       "        text-align: right;\n",
       "    }\n",
       "</style>\n",
       "<table border=\"1\" class=\"dataframe\">\n",
       "  <thead>\n",
       "    <tr style=\"text-align: right;\">\n",
       "      <th></th>\n",
       "      <th>student_id</th>\n",
       "      <th>rev</th>\n",
       "    </tr>\n",
       "  </thead>\n",
       "  <tbody>\n",
       "    <tr>\n",
       "      <th>0</th>\n",
       "      <td>1627</td>\n",
       "      <td>990.0</td>\n",
       "    </tr>\n",
       "    <tr>\n",
       "      <th>1</th>\n",
       "      <td>3185</td>\n",
       "      <td>690.0</td>\n",
       "    </tr>\n",
       "    <tr>\n",
       "      <th>2</th>\n",
       "      <td>25973</td>\n",
       "      <td>690.0</td>\n",
       "    </tr>\n",
       "  </tbody>\n",
       "</table>\n",
       "</div>"
      ],
      "text/plain": [
       "   student_id    rev\n",
       "0        1627  990.0\n",
       "1        3185  690.0\n",
       "2       25973  690.0"
      ]
     },
     "execution_count": 893,
     "metadata": {},
     "output_type": "execute_result"
    }
   ],
   "source": [
    "df_checks.head(3)"
   ]
  },
  {
   "cell_type": "markdown",
   "id": "adf24e49",
   "metadata": {},
   "source": [
    "В ходе тестирования одной гипотезы целевой группе была предложена новая механика оплаты услуг на сайте, у контрольной группы оставалась базовая механика. В качестве задания Вам необходимо проанализировать итоги эксперимента и сделать вывод, стоит ли запускать новую механику оплаты на всех пользователей."
   ]
  },
  {
   "cell_type": "markdown",
   "id": "09432d8b",
   "metadata": {},
   "source": [
    "#### Объединие датафреймов: исходные данные с поступившими через 2 дня."
   ]
  },
  {
   "cell_type": "code",
   "execution_count": 894,
   "id": "b8debfde",
   "metadata": {},
   "outputs": [],
   "source": [
    "df_users = pd.concat([df_groups, df_add_groups], ignore_index=True, sort=False)"
   ]
  },
  {
   "cell_type": "code",
   "execution_count": 895,
   "id": "06182f62",
   "metadata": {},
   "outputs": [
    {
     "data": {
      "text/html": [
       "<div>\n",
       "<style scoped>\n",
       "    .dataframe tbody tr th:only-of-type {\n",
       "        vertical-align: middle;\n",
       "    }\n",
       "\n",
       "    .dataframe tbody tr th {\n",
       "        vertical-align: top;\n",
       "    }\n",
       "\n",
       "    .dataframe thead th {\n",
       "        text-align: right;\n",
       "    }\n",
       "</style>\n",
       "<table border=\"1\" class=\"dataframe\">\n",
       "  <thead>\n",
       "    <tr style=\"text-align: right;\">\n",
       "      <th></th>\n",
       "      <th>id</th>\n",
       "      <th>grp</th>\n",
       "    </tr>\n",
       "  </thead>\n",
       "  <tbody>\n",
       "    <tr>\n",
       "      <th>0</th>\n",
       "      <td>1489</td>\n",
       "      <td>B</td>\n",
       "    </tr>\n",
       "    <tr>\n",
       "      <th>1</th>\n",
       "      <td>1627</td>\n",
       "      <td>A</td>\n",
       "    </tr>\n",
       "    <tr>\n",
       "      <th>2</th>\n",
       "      <td>1768</td>\n",
       "      <td>B</td>\n",
       "    </tr>\n",
       "  </tbody>\n",
       "</table>\n",
       "</div>"
      ],
      "text/plain": [
       "     id grp\n",
       "0  1489   B\n",
       "1  1627   A\n",
       "2  1768   B"
      ]
     },
     "execution_count": 895,
     "metadata": {},
     "output_type": "execute_result"
    }
   ],
   "source": [
    "df_users.head(3)"
   ]
  },
  {
   "cell_type": "markdown",
   "id": "6d7fa928",
   "metadata": {},
   "source": [
    "#### Объединение датафреймов: пользователи, заходившие в дни эксперимента, получают колонку, обозначающую принадлежность к контрольной или тестовой группе. "
   ]
  },
  {
   "cell_type": "code",
   "execution_count": 896,
   "id": "04267132",
   "metadata": {},
   "outputs": [],
   "source": [
    "df_users.rename(columns={'id':'student_id'}, inplace=True)"
   ]
  },
  {
   "cell_type": "code",
   "execution_count": 897,
   "id": "04d85b6e",
   "metadata": {},
   "outputs": [],
   "source": [
    "df_active_users = df_active.merge(df_users, how='left', on='student_id')"
   ]
  },
  {
   "cell_type": "code",
   "execution_count": 898,
   "id": "bd584e99",
   "metadata": {},
   "outputs": [
    {
     "data": {
      "text/html": [
       "<div>\n",
       "<style scoped>\n",
       "    .dataframe tbody tr th:only-of-type {\n",
       "        vertical-align: middle;\n",
       "    }\n",
       "\n",
       "    .dataframe tbody tr th {\n",
       "        vertical-align: top;\n",
       "    }\n",
       "\n",
       "    .dataframe thead th {\n",
       "        text-align: right;\n",
       "    }\n",
       "</style>\n",
       "<table border=\"1\" class=\"dataframe\">\n",
       "  <thead>\n",
       "    <tr style=\"text-align: right;\">\n",
       "      <th></th>\n",
       "      <th>student_id</th>\n",
       "      <th>grp</th>\n",
       "    </tr>\n",
       "  </thead>\n",
       "  <tbody>\n",
       "    <tr>\n",
       "      <th>0</th>\n",
       "      <td>581585</td>\n",
       "      <td>A</td>\n",
       "    </tr>\n",
       "    <tr>\n",
       "      <th>1</th>\n",
       "      <td>5723133</td>\n",
       "      <td>A</td>\n",
       "    </tr>\n",
       "    <tr>\n",
       "      <th>2</th>\n",
       "      <td>3276743</td>\n",
       "      <td>B</td>\n",
       "    </tr>\n",
       "  </tbody>\n",
       "</table>\n",
       "</div>"
      ],
      "text/plain": [
       "   student_id grp\n",
       "0      581585   A\n",
       "1     5723133   A\n",
       "2     3276743   B"
      ]
     },
     "execution_count": 898,
     "metadata": {},
     "output_type": "execute_result"
    }
   ],
   "source": [
    "df_active_users.head(3)"
   ]
  },
  {
   "cell_type": "markdown",
   "id": "1e9f7bbd",
   "metadata": {},
   "source": [
    "#### Объединение датафреймов: объединяем с файлом, содержащим информацию об оплате пользователей. \n",
    "Для пользователей, отсутствующих в этом файле, заполняем NaN нулями, поскольку это указывает на отсутствие оплаты. "
   ]
  },
  {
   "cell_type": "code",
   "execution_count": 899,
   "id": "0af53d0f",
   "metadata": {},
   "outputs": [],
   "source": [
    "df_active_users = df_active_users.merge(df_checks, how='left', on='student_id')"
   ]
  },
  {
   "cell_type": "code",
   "execution_count": 900,
   "id": "8d24c82d",
   "metadata": {},
   "outputs": [
    {
     "data": {
      "text/plain": [
       "7949"
      ]
     },
     "execution_count": 900,
     "metadata": {},
     "output_type": "execute_result"
    }
   ],
   "source": [
    "df_active_users.rev.isna().sum()"
   ]
  },
  {
   "cell_type": "code",
   "execution_count": 901,
   "id": "5a894056",
   "metadata": {},
   "outputs": [],
   "source": [
    "df_active_users.rev = df_active_users.rev.fillna(0)"
   ]
  },
  {
   "cell_type": "code",
   "execution_count": 902,
   "id": "a098dfaf",
   "metadata": {},
   "outputs": [
    {
     "data": {
      "text/html": [
       "<div>\n",
       "<style scoped>\n",
       "    .dataframe tbody tr th:only-of-type {\n",
       "        vertical-align: middle;\n",
       "    }\n",
       "\n",
       "    .dataframe tbody tr th {\n",
       "        vertical-align: top;\n",
       "    }\n",
       "\n",
       "    .dataframe thead th {\n",
       "        text-align: right;\n",
       "    }\n",
       "</style>\n",
       "<table border=\"1\" class=\"dataframe\">\n",
       "  <thead>\n",
       "    <tr style=\"text-align: right;\">\n",
       "      <th></th>\n",
       "      <th>student_id</th>\n",
       "      <th>grp</th>\n",
       "      <th>rev</th>\n",
       "    </tr>\n",
       "  </thead>\n",
       "  <tbody>\n",
       "    <tr>\n",
       "      <th>0</th>\n",
       "      <td>581585</td>\n",
       "      <td>A</td>\n",
       "      <td>0.0</td>\n",
       "    </tr>\n",
       "    <tr>\n",
       "      <th>1</th>\n",
       "      <td>5723133</td>\n",
       "      <td>A</td>\n",
       "      <td>0.0</td>\n",
       "    </tr>\n",
       "    <tr>\n",
       "      <th>2</th>\n",
       "      <td>3276743</td>\n",
       "      <td>B</td>\n",
       "      <td>0.0</td>\n",
       "    </tr>\n",
       "  </tbody>\n",
       "</table>\n",
       "</div>"
      ],
      "text/plain": [
       "   student_id grp  rev\n",
       "0      581585   A  0.0\n",
       "1     5723133   A  0.0\n",
       "2     3276743   B  0.0"
      ]
     },
     "execution_count": 902,
     "metadata": {},
     "output_type": "execute_result"
    }
   ],
   "source": [
    "df_active_users.head(3)"
   ]
  },
  {
   "cell_type": "markdown",
   "id": "3a98cc45",
   "metadata": {},
   "source": [
    "### 2. Оцениваем полученные данные:"
   ]
  },
  {
   "cell_type": "markdown",
   "id": "53697e0b",
   "metadata": {},
   "source": [
    "#### Соотношние численности контрольной (A) и тестовой (B) групп: "
   ]
  },
  {
   "cell_type": "code",
   "execution_count": 903,
   "id": "68ad8c20",
   "metadata": {},
   "outputs": [
    {
     "data": {
      "text/plain": [
       "<AxesSubplot:>"
      ]
     },
     "execution_count": 903,
     "metadata": {},
     "output_type": "execute_result"
    },
    {
     "data": {
      "image/png": "[encoded data removed]",
      "text/plain": [
       "<Figure size 600x400 with 1 Axes>"
      ]
     },
     "metadata": {},
     "output_type": "display_data"
    }
   ],
   "source": [
    "plt.rcParams[\"figure.figsize\"] = [6, 4]\n",
    "df_active_users.grp.hist()"
   ]
  },
  {
   "cell_type": "code",
   "execution_count": 904,
   "id": "b711c255",
   "metadata": {},
   "outputs": [],
   "source": [
    "test_number = df_active_users.query('grp == \"B\"').shape[0]\n",
    "control_number = df_active_users.query('grp == \"A\"').shape[0]\n",
    "print(f'Тестовая группа содержит {test_number} пользователей.')\n",
    "print(f'Контрольная группа содержит {control_number} пользователей.')"
   ]
  },
  {
   "cell_type": "markdown",
   "id": "15769722",
   "metadata": {},
   "source": [
    "#### Поскольку целью эксперимента является повышение финансовых показателей (выручка, прибыль), то для оценки результатов  проводится сравнение следующих метрик: средний доход с одного активного пользователя (ARPU), средняя выручка на одного платящего пользователя (ARPPU), конверсия пользователей. "
   ]
  },
  {
   "cell_type": "code",
   "execution_count": 905,
   "id": "7fd416ce",
   "metadata": {},
   "outputs": [
    {
     "data": {
      "text/plain": [
       "True"
      ]
     },
     "execution_count": 905,
     "metadata": {},
     "output_type": "execute_result"
    }
   ],
   "source": [
    "df_active_users.shape[0] == df_active_users.student_id.nunique()"
   ]
  },
  {
   "cell_type": "markdown",
   "id": "63c00176",
   "metadata": {},
   "source": [
    "#### Количество уникальных id студентов соответствует длине колонки id_student,  значит ARPU соответствует среднему значению колонки rev, сгруппированному по выборке."
   ]
  },
  {
   "cell_type": "markdown",
   "id": "08e12d26",
   "metadata": {},
   "source": [
    "#### Оценка ARPU в группах."
   ]
  },
  {
   "cell_type": "code",
   "execution_count": 906,
   "id": "b0a37f8d",
   "metadata": {},
   "outputs": [
    {
     "data": {
      "text/html": [
       "<div>\n",
       "<style scoped>\n",
       "    .dataframe tbody tr th:only-of-type {\n",
       "        vertical-align: middle;\n",
       "    }\n",
       "\n",
       "    .dataframe tbody tr th {\n",
       "        vertical-align: top;\n",
       "    }\n",
       "\n",
       "    .dataframe thead th {\n",
       "        text-align: right;\n",
       "    }\n",
       "</style>\n",
       "<table border=\"1\" class=\"dataframe\">\n",
       "  <thead>\n",
       "    <tr style=\"text-align: right;\">\n",
       "      <th></th>\n",
       "      <th>grp</th>\n",
       "      <th>ARPU</th>\n",
       "    </tr>\n",
       "  </thead>\n",
       "  <tbody>\n",
       "    <tr>\n",
       "      <th>0</th>\n",
       "      <td>A</td>\n",
       "      <td>47.347204</td>\n",
       "    </tr>\n",
       "    <tr>\n",
       "      <th>1</th>\n",
       "      <td>B</td>\n",
       "      <td>58.058798</td>\n",
       "    </tr>\n",
       "  </tbody>\n",
       "</table>\n",
       "</div>"
      ],
      "text/plain": [
       "  grp       ARPU\n",
       "0   A  47.347204\n",
       "1   B  58.058798"
      ]
     },
     "execution_count": 906,
     "metadata": {},
     "output_type": "execute_result"
    }
   ],
   "source": [
    "ARPU = df_active_users.groupby('grp', as_index=False).agg({'rev':'mean'}).rename(columns={'rev':'ARPU'})\n",
    "ARPU"
   ]
  },
  {
   "cell_type": "code",
   "execution_count": 907,
   "id": "09ca0381-2841-4778-9851-d9ddabddafc4",
   "metadata": {},
   "outputs": [
    {
     "data": {
      "text/plain": [
       "<AxesSubplot:xlabel='grp', ylabel='ARPU'>"
      ]
     },
     "execution_count": 907,
     "metadata": {},
     "output_type": "execute_result"
    },
    {
     "data": {
      "image/png": "[encoded data removed]",
      "text/plain": [
       "<Figure size 400x300 with 1 Axes>"
      ]
     },
     "metadata": {},
     "output_type": "display_data"
    }
   ],
   "source": [
    "sns.set(rc={'figure.figsize':(4, 3)})\n",
    "sns.barplot(data=ARPU, x=\"grp\", y=\"ARPU\")"
   ]
  },
  {
   "cell_type": "markdown",
   "id": "ed4d94f1",
   "metadata": {},
   "source": [
    "#### В тестовой группе значение ARPU выше."
   ]
  },
  {
   "cell_type": "markdown",
   "id": "b0df5799",
   "metadata": {},
   "source": [
    "#### Оценка распределения оплаты среди пользователей контрольной группы."
   ]
  },
  {
   "cell_type": "code",
   "execution_count": 908,
   "id": "55761783",
   "metadata": {},
   "outputs": [],
   "source": [
    "df_arpu_a = df_active_users.query('grp == \"A\"')\n",
    "df_arpu_b = df_active_users.query('grp == \"B\"')"
   ]
  },
  {
   "cell_type": "code",
   "execution_count": 909,
   "id": "a5fde770",
   "metadata": {},
   "outputs": [
    {
     "data": {
      "text/plain": [
       "<AxesSubplot:>"
      ]
     },
     "execution_count": 909,
     "metadata": {},
     "output_type": "execute_result"
    },
    {
     "data": {
      "image/png": "[encoded data removed]",
      "text/plain": [
       "<Figure size 600x400 with 1 Axes>"
      ]
     },
     "metadata": {},
     "output_type": "display_data"
    }
   ],
   "source": [
    "plt.rcParams[\"figure.figsize\"] = [6, 4]\n",
    "df_arpu_a.rev.hist()"
   ]
  },
  {
   "cell_type": "code",
   "execution_count": 910,
   "id": "c20c9d7a",
   "metadata": {},
   "outputs": [
    {
     "data": {
      "text/plain": [
       "ShapiroResult(statistic=0.1541670560836792, pvalue=0.0)"
      ]
     },
     "execution_count": 910,
     "metadata": {},
     "output_type": "execute_result"
    }
   ],
   "source": [
    "shapiro(df_arpu_a.rev)"
   ]
  },
  {
   "cell_type": "markdown",
   "id": "078481c8",
   "metadata": {},
   "source": [
    "#### Оценка распределения оплаты среди пользователей целевой группы."
   ]
  },
  {
   "cell_type": "code",
   "execution_count": 911,
   "id": "3123ed8e",
   "metadata": {},
   "outputs": [
    {
     "data": {
      "text/plain": [
       "<AxesSubplot:>"
      ]
     },
     "execution_count": 911,
     "metadata": {},
     "output_type": "execute_result"
    },
    {
     "data": {
      "image/png": "[encoded data removed]",
      "text/plain": [
       "<Figure size 600x400 with 1 Axes>"
      ]
     },
     "metadata": {},
     "output_type": "display_data"
    }
   ],
   "source": [
    "plt.rcParams[\"figure.figsize\"] = [6, 4]\n",
    "df_arpu_b.rev.hist()"
   ]
  },
  {
   "cell_type": "code",
   "execution_count": 912,
   "id": "60664267",
   "metadata": {},
   "outputs": [
    {
     "name": "stderr",
     "output_type": "stream",
     "text": [
      "/home/m/anaconda3/lib/python3.9/site-packages/scipy/stats/morestats.py:1760: UserWarning: p-value may not be accurate for N > 5000.\n",
      "  warnings.warn(\"p-value may not be accurate for N > 5000.\")\n"
     ]
    },
    {
     "data": {
      "text/plain": [
       "ShapiroResult(statistic=0.18124502897262573, pvalue=0.0)"
      ]
     },
     "execution_count": 912,
     "metadata": {},
     "output_type": "execute_result"
    }
   ],
   "source": [
    "shapiro(df_arpu_b.rev)"
   ]
  },
  {
   "cell_type": "markdown",
   "id": "902a097e",
   "metadata": {},
   "source": [
    "#### В обеих выборках распределение не является нормальным (p-уровень значимости теста Шапиро-Уилка меньше 0.05). Соответственно, для оценки статистической достоверности результатов необходимо использовать либо непараметрические методы, либо bootstrap. В связи с трудностью интерпритации теста Манна-Уитни (он оценивает не равенство средних, а равенстово распределений), в данном случае будет применяться bootstrap, исходя из предположения о репрезентативнгсти выборок."
   ]
  },
  {
   "cell_type": "markdown",
   "id": "9ee0405c",
   "metadata": {},
   "source": [
    "#### Объявление функции для оценки статистической достоверности на основе bootstrap."
   ]
  },
  {
   "cell_type": "code",
   "execution_count": 913,
   "id": "aee4bd08",
   "metadata": {},
   "outputs": [],
   "source": [
    "def get_bootstrap(\n",
    "    data_column_1,  # числовые значения первой выборки\n",
    "    data_column_2,  # числовые значения второй выборки\n",
    "    boot_it=1000,  # количество бутстрэп-подвыборок\n",
    "    statistic=np.mean,  # интересующая нас статистика\n",
    "    bootstrap_conf_level=0.95  # уровень значимости\n",
    "):\n",
    "    boot_len = max([len(data_column_1), len(data_column_2)])\n",
    "    boot_data = []\n",
    "    for i in tqdm(range(boot_it)):  # извлекаем подвыборки\n",
    "        samples_1 = data_column_1.sample(boot_len,\n",
    "                                         replace=True  # параметр возвращения\n",
    "                                         ).values\n",
    "\n",
    "        samples_2 = data_column_2.sample(\n",
    "            boot_len,\n",
    "            replace=True\n",
    "        ).values\n",
    "        \n",
    "        boot_data.append(statistic(samples_1-samples_2))  # mean() - применяем статистику\n",
    "        \n",
    "    pd_boot_data = pd.DataFrame(boot_data)\n",
    "        \n",
    "    left_quant = (1 - bootstrap_conf_level)/2\n",
    "    right_quant = 1 - (1 - bootstrap_conf_level) / 2\n",
    "    ci = pd_boot_data.quantile([left_quant, right_quant])\n",
    "        \n",
    "    p_1 = norm.cdf(\n",
    "        x = 0, \n",
    "        loc = np.mean(boot_data), \n",
    "        scale = np.std(boot_data)\n",
    "    )\n",
    "    p_2 = norm.cdf(\n",
    "        x = 0, \n",
    "        loc = -np.mean(boot_data), \n",
    "        scale = np.std(boot_data)\n",
    "    )\n",
    "    p_value = min(p_1, p_2) * 2\n",
    "        \n",
    "    # Визуализация\n",
    "    plt.hist(pd_boot_data[0], bins = 50)\n",
    "    \n",
    "    plt.style.use('ggplot')\n",
    "    plt.vlines(ci,ymin=0,ymax=50,linestyle='--')\n",
    "    plt.xlabel('boot_data')\n",
    "    plt.ylabel('frequency')\n",
    "    plt.title(\"Histogram of boot_data\")\n",
    "    plt.show()\n",
    "       \n",
    "    return {\"boot_data\": boot_data, \n",
    "            \"ci\": ci, \n",
    "            \"p_value\": p_value}"
   ]
  },
  {
   "cell_type": "markdown",
   "id": "ca70055b",
   "metadata": {},
   "source": [
    "#### Оценка статистической достоверности отличий между контрольной и тестовыми группами. "
   ]
  },
  {
   "cell_type": "code",
   "execution_count": 914,
   "id": "43831ddf",
   "metadata": {},
   "outputs": [
    {
     "data": {
      "application/vnd.jupyter.widget-view+json": {
       "model_id": "baca96feb15749879dab13b97d2ae9b2",
       "version_major": 2,
       "version_minor": 0
      },
      "text/plain": [
       "  0%|          | 0/1000 [00:00<?, ?it/s]"
      ]
     },
     "metadata": {},
     "output_type": "display_data"
    },
    {
     "data": {
      "image/png": "[encoded data removed]",
      "text/plain": [
       "<Figure size 600x400 with 1 Axes>"
      ]
     },
     "metadata": {},
     "output_type": "display_data"
    }
   ],
   "source": [
    "result_arpu = get_bootstrap(df_arpu_a.rev, df_arpu_b.rev)"
   ]
  },
  {
   "cell_type": "code",
   "execution_count": 915,
   "id": "e9a4895f",
   "metadata": {},
   "outputs": [
    {
     "data": {
      "text/plain": [
       "0.04125126016030747"
      ]
     },
     "execution_count": 915,
     "metadata": {},
     "output_type": "execute_result"
    }
   ],
   "source": [
    "result_arpu['p_value']"
   ]
  },
  {
   "cell_type": "markdown",
   "id": "32e85d80",
   "metadata": {},
   "source": [
    "#### На основе полученных данных можно отклонить нулевую гипотезу об отсутствии статистически достоверных различий в контрольной и тестовой группах (p < 0.05) "
   ]
  },
  {
   "cell_type": "markdown",
   "id": "50682132",
   "metadata": {},
   "source": [
    "#### ARPPU - средняя выручка на одного платящего пользователя. "
   ]
  },
  {
   "cell_type": "code",
   "execution_count": 916,
   "id": "f18f6779",
   "metadata": {},
   "outputs": [
    {
     "data": {
      "text/html": [
       "<div>\n",
       "<style scoped>\n",
       "    .dataframe tbody tr th:only-of-type {\n",
       "        vertical-align: middle;\n",
       "    }\n",
       "\n",
       "    .dataframe tbody tr th {\n",
       "        vertical-align: top;\n",
       "    }\n",
       "\n",
       "    .dataframe thead th {\n",
       "        text-align: right;\n",
       "    }\n",
       "</style>\n",
       "<table border=\"1\" class=\"dataframe\">\n",
       "  <thead>\n",
       "    <tr style=\"text-align: right;\">\n",
       "      <th></th>\n",
       "      <th>grp</th>\n",
       "      <th>ARPPU</th>\n",
       "    </tr>\n",
       "  </thead>\n",
       "  <tbody>\n",
       "    <tr>\n",
       "      <th>0</th>\n",
       "      <td>A</td>\n",
       "      <td>933.589744</td>\n",
       "    </tr>\n",
       "    <tr>\n",
       "      <th>1</th>\n",
       "      <td>B</td>\n",
       "      <td>1257.878992</td>\n",
       "    </tr>\n",
       "  </tbody>\n",
       "</table>\n",
       "</div>"
      ],
      "text/plain": [
       "  grp        ARPPU\n",
       "0   A   933.589744\n",
       "1   B  1257.878992"
      ]
     },
     "execution_count": 916,
     "metadata": {},
     "output_type": "execute_result"
    }
   ],
   "source": [
    "ARPPU = df_active_users.query('rev > 0'). \\\n",
    "        groupby('grp', as_index=False). \\\n",
    "        agg({'rev' : 'mean'}). \\\n",
    "        rename(columns = {'rev' : 'ARPPU'})\n",
    "ARPPU"
   ]
  },
  {
   "cell_type": "code",
   "execution_count": 917,
   "id": "8386dff4-6672-4f3a-858d-2561190871fd",
   "metadata": {},
   "outputs": [
    {
     "data": {
      "text/plain": [
       "<AxesSubplot:xlabel='grp', ylabel='ARPPU'>"
      ]
     },
     "execution_count": 917,
     "metadata": {},
     "output_type": "execute_result"
    },
    {
     "data": {
      "image/png": "[encoded data removed]",
      "text/plain": [
       "<Figure size 400x300 with 1 Axes>"
      ]
     },
     "metadata": {},
     "output_type": "display_data"
    }
   ],
   "source": [
    "sns.set(rc={'figure.figsize':(4, 3)})\n",
    "sns.barplot(data=ARPPU, x=\"grp\", y=\"ARPPU\")"
   ]
  },
  {
   "cell_type": "markdown",
   "id": "34cf1040",
   "metadata": {},
   "source": [
    "#### В тестовой группе значение ARPPU выше. "
   ]
  },
  {
   "cell_type": "markdown",
   "id": "c511e202",
   "metadata": {},
   "source": [
    "#### Оценка распределений."
   ]
  },
  {
   "cell_type": "code",
   "execution_count": 918,
   "id": "e9974d59",
   "metadata": {},
   "outputs": [],
   "source": [
    "df_arppu_a = df_active_users.query('grp == \"A\" and rev > 0')\n",
    "df_arppu_b = df_active_users.query('grp == \"B\" and rev > 0')"
   ]
  },
  {
   "cell_type": "code",
   "execution_count": 919,
   "id": "b55f33ce",
   "metadata": {},
   "outputs": [
    {
     "data": {
      "text/plain": [
       "<AxesSubplot:>"
      ]
     },
     "execution_count": 919,
     "metadata": {},
     "output_type": "execute_result"
    },
    {
     "data": {
      "image/png": "[encoded data removed]",
      "text/plain": [
       "<Figure size 400x300 with 1 Axes>"
      ]
     },
     "metadata": {},
     "output_type": "display_data"
    }
   ],
   "source": [
    "df_arppu_a.rev.hist()"
   ]
  },
  {
   "cell_type": "code",
   "execution_count": 920,
   "id": "c38ba246",
   "metadata": {},
   "outputs": [
    {
     "data": {
      "text/plain": [
       "ShapiroResult(statistic=0.7353236079216003, pvalue=1.4986822893803264e-10)"
      ]
     },
     "execution_count": 920,
     "metadata": {},
     "output_type": "execute_result"
    }
   ],
   "source": [
    "shapiro(df_arppu_a.rev)"
   ]
  },
  {
   "cell_type": "code",
   "execution_count": 921,
   "id": "ecb5d712",
   "metadata": {},
   "outputs": [
    {
     "data": {
      "text/plain": [
       "<AxesSubplot:>"
      ]
     },
     "execution_count": 921,
     "metadata": {},
     "output_type": "execute_result"
    },
    {
     "data": {
      "image/png": "[encoded data removed]",
      "text/plain": [
       "<Figure size 400x300 with 1 Axes>"
      ]
     },
     "metadata": {},
     "output_type": "display_data"
    }
   ],
   "source": [
    "df_arppu_b.rev.hist()"
   ]
  },
  {
   "cell_type": "code",
   "execution_count": 922,
   "id": "c2234f4d",
   "metadata": {},
   "outputs": [
    {
     "data": {
      "text/plain": [
       "ShapiroResult(statistic=0.8547235727310181, pvalue=1.5437024585965894e-16)"
      ]
     },
     "execution_count": 922,
     "metadata": {},
     "output_type": "execute_result"
    }
   ],
   "source": [
    "shapiro(df_arppu_b.rev)"
   ]
  },
  {
   "cell_type": "markdown",
   "id": "7d099130",
   "metadata": {},
   "source": [
    "#### Поскольку оба распределения также отличаются от нормального, то для последующей оценки статистически достоверных различий применяется bootstrap. "
   ]
  },
  {
   "cell_type": "code",
   "execution_count": 923,
   "id": "d1f275e4",
   "metadata": {},
   "outputs": [
    {
     "data": {
      "application/vnd.jupyter.widget-view+json": {
       "model_id": "6fde04b305964ef5b2e474a9dd042acc",
       "version_major": 2,
       "version_minor": 0
      },
      "text/plain": [
       "  0%|          | 0/1000 [00:00<?, ?it/s]"
      ]
     },
     "metadata": {},
     "output_type": "display_data"
    },
    {
     "data": {
      "image/png": "[encoded data removed]",
      "text/plain": [
       "<Figure size 400x300 with 1 Axes>"
      ]
     },
     "metadata": {},
     "output_type": "display_data"
    }
   ],
   "source": [
    "result_arppu = get_bootstrap(df_arppu_a.rev, df_arppu_b.rev)"
   ]
  },
  {
   "cell_type": "code",
   "execution_count": 924,
   "id": "1f3ab612",
   "metadata": {},
   "outputs": [
    {
     "data": {
      "text/plain": [
       "1.0983786407497397e-06"
      ]
     },
     "execution_count": 924,
     "metadata": {},
     "output_type": "execute_result"
    }
   ],
   "source": [
    "result_arppu['p_value']"
   ]
  },
  {
   "cell_type": "markdown",
   "id": "22a4e6a2",
   "metadata": {},
   "source": [
    "#### На основе полученных данных можно отклонить нулевую гипотезу об отсутствии статистически достоверных различий в контрольной и тестовой группах (p < 0.05) "
   ]
  },
  {
   "cell_type": "markdown",
   "id": "a2f49ed6-27fa-4f19-8dc6-d809d6fe65c7",
   "metadata": {},
   "source": [
    "### Оценка уровня конверсии."
   ]
  },
  {
   "cell_type": "code",
   "execution_count": 925,
   "id": "b6dad67b",
   "metadata": {},
   "outputs": [
    {
     "data": {
      "text/plain": [
       "0.046156107599588415"
      ]
     },
     "execution_count": 925,
     "metadata": {},
     "output_type": "execute_result"
    }
   ],
   "source": [
    "conversion_test = df_active_users.query('rev > 0 and grp == \"B\"'). \\\n",
    "                    student_id.nunique() / df_active_users. \\\n",
    "                    query('grp == \"B\"').student_id.nunique()\n",
    "print('Конверсия в тестовой группе:')\n",
    "conversion_test"
   ]
  },
  {
   "cell_type": "code",
   "execution_count": 926,
   "id": "084ffd76-5033-4586-a014-56e58679e804",
   "metadata": {},
   "outputs": [
    {
     "data": {
      "text/plain": [
       "0.05071521456436931"
      ]
     },
     "execution_count": 926,
     "metadata": {},
     "output_type": "execute_result"
    }
   ],
   "source": [
    "conversion_control = df_active_users.query('rev > 0 and grp == \"A\"'). \\\n",
    "                    student_id.nunique() / df_active_users. \\\n",
    "                    query('grp == \"A\"').student_id.nunique()\n",
    "print('Конверсия в контрольной группе:')\n",
    "conversion_control"
   ]
  },
  {
   "cell_type": "code",
   "execution_count": 927,
   "id": "cf9e1150-f856-4e8a-ba7d-e124c9ca3f63",
   "metadata": {},
   "outputs": [
    {
     "data": {
      "text/plain": [
       "<AxesSubplot:xlabel='grp', ylabel='conversion'>"
      ]
     },
     "execution_count": 927,
     "metadata": {},
     "output_type": "execute_result"
    },
    {
     "data": {
      "image/png": "[encoded data removed]",
      "text/plain": [
       "<Figure size 400x300 with 1 Axes>"
      ]
     },
     "metadata": {},
     "output_type": "display_data"
    }
   ],
   "source": [
    "conversion = pd.DataFrame({'grp' : ['control', 'test'], 'conversion' : [conversion_control, conversion_test]})\n",
    "sns.set(rc={'figure.figsize':(4, 3)})\n",
    "sns.barplot(data = conversion, x = \"grp\", y = \"conversion\")"
   ]
  },
  {
   "cell_type": "markdown",
   "id": "cc4cb77f-0867-4a6f-a24b-d2d17f46e38b",
   "metadata": {},
   "source": [
    "#### В тестовой группе значение конверсии ниже."
   ]
  },
  {
   "cell_type": "markdown",
   "id": "392d727f",
   "metadata": {},
   "source": [
    "#### Конверсия оценивается на основе двух категориальных переменных, следовательно целессобразно применение метода на основе критерия χ2 Пирсона."
   ]
  },
  {
   "cell_type": "code",
   "execution_count": 928,
   "id": "d4bd15ea",
   "metadata": {},
   "outputs": [],
   "source": [
    "conversion_a = df_active_users.query('rev > 0 and grp == \"A\"').student_id.nunique()  \n",
    "non_conversion_a = df_active_users.query('rev == 0 and grp == \"A\"').student_id.nunique()\n",
    "conversion_b = df_active_users.query('rev > 0 and grp == \"B\"').student_id.nunique() \n",
    "non_conversion_b = df_active_users.query('rev == 0 and grp == \"B\"').student_id.nunique()"
   ]
  },
  {
   "cell_type": "code",
   "execution_count": 929,
   "id": "5be4efea",
   "metadata": {},
   "outputs": [],
   "source": [
    "# chi-square\n",
    "data = [[conversion_a, non_conversion_a], [conversion_b, non_conversion_b]]\n",
    "stat, p, dof, expected = chi2_contingency(data)"
   ]
  },
  {
   "cell_type": "code",
   "execution_count": 930,
   "id": "241849c0",
   "metadata": {},
   "outputs": [
    {
     "data": {
      "text/plain": [
       "0.48625240457231045"
      ]
     },
     "execution_count": 930,
     "metadata": {},
     "output_type": "execute_result"
    }
   ],
   "source": [
    "p"
   ]
  },
  {
   "cell_type": "markdown",
   "id": "0369bf6f",
   "metadata": {},
   "source": [
    "#### На основе полученных данных нельзя отклонить нулевую гипотезу об отсутствии статистически достоверных различий в контрольной и тестовой группах (p > 0.05) "
   ]
  },
  {
   "cell_type": "markdown",
   "id": "e4cf7dc9",
   "metadata": {},
   "source": [
    "### На основе проведенного анализа можно сделать следующие выводы:\n",
    "\n",
    "\n",
    "#### В тестовой группе отмечается статистически достоверное повышение ARPU и ARPPU.\n",
    "#### Статистически достоверных различий в уровне конверсии между тестовой и контрольной группе нет. \n",
    "#### Целесообразно применить данную механику оплаты на всех пользователей.\n",
    "#### Целесообразно сосредоточиться на повышении конверсии."
   ]
  },
  {
   "cell_type": "code",
   "execution_count": null,
   "id": "7db3d201-3610-4478-ac1e-e7c00b211d53",
   "metadata": {},
   "outputs": [],
   "source": []
  },
  {
   "cell_type": "markdown",
   "id": "e3f4df2b-af96-46a2-a417-983e3537926d",
   "metadata": {},
   "source": [
    "## Задание 2. SQL.\n",
    "\n"
   ]
  },
  {
   "cell_type": "markdown",
   "id": "75e96780-5184-414c-965e-3eccc24ab320",
   "metadata": {},
   "source": [
    "#### 2.1 Образовательные курсы состоят из различных уроков, каждый из которых состоит из нескольких маленьких заданий. Каждое такое маленькое задание называется \"горошиной\".\n",
    "Назовём очень усердным учеником того пользователя, который хотя бы раз за текущий месяц правильно решил 20 горошин. \n",
    "Необходимо написать оптимальный запрос, который даст информацию о количестве очень усердных студентов."
   ]
  },
  {
   "cell_type": "code",
   "execution_count": 931,
   "id": "410f510d-b1f9-4b83-9964-04703bef62e9",
   "metadata": {},
   "outputs": [],
   "source": [
    "connection = {'host': 'http://clickhouse.beslan.pro:8080',\n",
    "'database':'default',\n",
    "'user':'student',\n",
    "'password':'dpo_python_2020'\n",
    "}"
   ]
  },
  {
   "cell_type": "code",
   "execution_count": 932,
   "id": "a07435c3-1a7c-4236-b03c-76f912b9f790",
   "metadata": {},
   "outputs": [],
   "source": [
    "query = '''SELECT COUNT (*) AS number\n",
    "           FROM (SELECT st_id, SUM(correct) AS result\n",
    "                 FROM peas\n",
    "                 WHERE toStartOfMonth(timest) = date_trunc('month', now())\n",
    "           GROUP BY st_id\n",
    "           HAVING result > 19)'''"
   ]
  },
  {
   "cell_type": "code",
   "execution_count": 933,
   "id": "a9510d67-5b68-4c7a-bb12-a6b04381ba98",
   "metadata": {},
   "outputs": [],
   "source": [
    "df = ph.read_clickhouse(query, connection=connection)"
   ]
  },
  {
   "cell_type": "markdown",
   "id": "f0bf7d30-56e5-4286-bded-72481a5dcad7",
   "metadata": {},
   "source": [
    "#### Поскольку по условию задания должны выводиться данные за текущий месяц, а в таблице представлена информация за октябрь 2021, результатом запроса является 0."
   ]
  },
  {
   "cell_type": "code",
   "execution_count": 934,
   "id": "ec92f822-c2a8-4e7f-b6db-f04c03dae30e",
   "metadata": {},
   "outputs": [
    {
     "data": {
      "text/html": [
       "<div>\n",
       "<style scoped>\n",
       "    .dataframe tbody tr th:only-of-type {\n",
       "        vertical-align: middle;\n",
       "    }\n",
       "\n",
       "    .dataframe tbody tr th {\n",
       "        vertical-align: top;\n",
       "    }\n",
       "\n",
       "    .dataframe thead th {\n",
       "        text-align: right;\n",
       "    }\n",
       "</style>\n",
       "<table border=\"1\" class=\"dataframe\">\n",
       "  <thead>\n",
       "    <tr style=\"text-align: right;\">\n",
       "      <th></th>\n",
       "      <th>number</th>\n",
       "    </tr>\n",
       "  </thead>\n",
       "  <tbody>\n",
       "    <tr>\n",
       "      <th>0</th>\n",
       "      <td>0</td>\n",
       "    </tr>\n",
       "  </tbody>\n",
       "</table>\n",
       "</div>"
      ],
      "text/plain": [
       "   number\n",
       "0       0"
      ]
     },
     "execution_count": 934,
     "metadata": {},
     "output_type": "execute_result"
    }
   ],
   "source": [
    "df"
   ]
  },
  {
   "cell_type": "markdown",
   "id": "a3e144b9-f8cd-4e24-bb15-d7e42d53044d",
   "metadata": {},
   "source": [
    "#### 2.2 Необходимо в одном запросе выгрузить следующую информацию о группах пользователей:\n",
    "\n",
    "    ARPU \n",
    "    ARPAU \n",
    "    CR в покупку \n",
    "    СR активного пользователя в покупку \n",
    "    CR пользователя из активности по математике (subject = ’math’) в покупку курса по математике\n",
    "\n",
    "ARPU считается относительно всех пользователей, попавших в группы.\n",
    "\n",
    "Активным считается пользователь, за все время решивший больше 10 задач правильно в любых дисциплинах.\n",
    "\n",
    "Активным по математике считается пользователь, за все время решивший 2 или больше задач правильно по математике.\n"
   ]
  },
  {
   "cell_type": "code",
   "execution_count": 935,
   "id": "e1494e43-dd1a-4fa5-8585-749a48241b38",
   "metadata": {},
   "outputs": [],
   "source": [
    "query_2 = '''SELECT test_grp,\n",
    "                    COUNT(DISTINCT(st_id)) as users_by_groups,\n",
    "                    SUM(revenue) as revenue,\n",
    "                    SUM(active) as active_users,\n",
    "                    SUM(conversion) / users_by_groups * 100 AS all_conversion,\n",
    "                    SUM(active_convers) / active_users * 100 AS active_conversion,\n",
    "                    SUM(is_active_client_math) / SUM(math_active) * 100 AS math_conversion,\n",
    "                    revenue/users_by_groups as ARPU,\n",
    "                    revenue/active_users as ARPAU\n",
    "\n",
    "             FROM  (WITH    \n",
    "\n",
    "                    -- money\n",
    "\n",
    "                     money AS (SELECT st_id, SUM(money) AS revenue\n",
    "                               FROM   final_project_check\n",
    "                               GROUP BY st_id\n",
    "                              ),\n",
    "\n",
    "                    -- is active user\n",
    "\n",
    "                    is_active AS (SELECT st_id,\n",
    "                                         IF(SUM(correct) > 10, 1, 0) AS active \n",
    "                                  FROM peas\n",
    "                                  GROUP BY st_id\n",
    "                                  ),\n",
    "\n",
    "                    -- math active user\n",
    "\n",
    "                    m_active AS (SELECT st_id,\n",
    "                                        IF(SUM(correct) >= 2, 1, 0) AS math_active \n",
    "                                 FROM (SELECT * \n",
    "                                       FROM peas\n",
    "                                       WHERE subject='Math'\n",
    "                                       )\n",
    "                                 GROUP BY st_id\n",
    "                                ),\n",
    "\n",
    "                    -- conversion\n",
    "\n",
    "                    conv AS (SELECT st_id,\n",
    "                                    if(SUM(money) > 0, 1, 0) AS conversion \n",
    "                             FROM final_project_check\n",
    "                             GROUP BY st_id\n",
    "                             ),\n",
    "\n",
    "                    -- active conversion\n",
    "\n",
    "                    act_conv AS (SELECT st_id,\n",
    "                                        IF((SUM(money) > 0) AND st_id IN (SELECT st_id \n",
    "                                                                          FROM peas \n",
    "                                                                          GROUP BY st_id \n",
    "                                                                          HAVING (SUM(correct) > 10)\n",
    "                                                                          ), 1, 0)\n",
    "                                                                          AS active_convers\n",
    "                                 FROM final_project_check\n",
    "                                 GROUP BY st_id\n",
    "                                 ),\n",
    "\n",
    "                    -- math bought\n",
    "\n",
    "                     m_buy AS (SELECT DISTINCT(st_id),\n",
    "                                      IF(st_id IN (SELECT st_id \n",
    "                                                   FROM final_project_check \n",
    "                                                   WHERE subject='Math'), 1, 0) \n",
    "                                      AS math_buy \n",
    "                               FROM final_project_check\n",
    "                               ),\n",
    "\n",
    "\n",
    "                    -- st_id, test_grp\n",
    "\n",
    "                    main AS (SELECT DISTINCT(st_id) AS st_id, test_grp\n",
    "                             FROM\n",
    "                                 (SELECT peas.correct, peas.subject, studs.test_grp AS test_grp, studs.st_id AS st_id\n",
    "                                  FROM peas \n",
    "                                  FULL JOIN studs \n",
    "                                  ON peas.st_id = studs.st_id)\n",
    "                             )\n",
    "\n",
    "                    SELECT main.st_id AS st_id, main.test_grp AS test_grp,\n",
    "                           money.revenue AS revenue,\n",
    "                           is_active.active AS active,\n",
    "                           m_active.math_active AS math_active,\n",
    "                           conv.conversion AS conversion,\n",
    "                           m_buy.math_buy AS math_buy,\n",
    "                           act_conv.active_convers AS active_convers,\n",
    "                           CASE\n",
    "                           WHEN ((math_buy = 1) AND (math_active = 1)) THEN 1\n",
    "                           ELSE 0\n",
    "                           END AS is_active_client_math\n",
    "                    FROM main \n",
    "                         FULL JOIN money\n",
    "                         ON main.st_id = money.st_id\n",
    "                         FULL JOIN is_active\n",
    "                         ON main.st_id = is_active.st_id\n",
    "                         FULL JOIN m_active\n",
    "                         ON main.st_id = m_active.st_id\n",
    "                         FULl JOIN conv\n",
    "                         ON main.st_id = conv.st_id\n",
    "                         FULL JOIN m_buy\n",
    "                         ON main.st_id = m_buy.st_id\n",
    "                         FULL JOIN act_conv\n",
    "                         ON main.st_id = act_conv.st_id)\n",
    "\n",
    "                    GROUP BY test_grp'''"
   ]
  },
  {
   "cell_type": "code",
   "execution_count": 936,
   "id": "a7a0a4d6-eacd-47bd-9d6a-dfc85ce5235f",
   "metadata": {},
   "outputs": [],
   "source": [
    "df_2 = ph.read_clickhouse(query_2, connection = connection)"
   ]
  },
  {
   "cell_type": "code",
   "execution_count": 937,
   "id": "5443f91c-06c7-4f9d-b698-47672b9f1eb3",
   "metadata": {},
   "outputs": [
    {
     "data": {
      "text/html": [
       "<div>\n",
       "<style scoped>\n",
       "    .dataframe tbody tr th:only-of-type {\n",
       "        vertical-align: middle;\n",
       "    }\n",
       "\n",
       "    .dataframe tbody tr th {\n",
       "        vertical-align: top;\n",
       "    }\n",
       "\n",
       "    .dataframe thead th {\n",
       "        text-align: right;\n",
       "    }\n",
       "</style>\n",
       "<table border=\"1\" class=\"dataframe\">\n",
       "  <thead>\n",
       "    <tr style=\"text-align: right;\">\n",
       "      <th></th>\n",
       "      <th>test_grp</th>\n",
       "      <th>users_by_groups</th>\n",
       "      <th>revenue</th>\n",
       "      <th>active_users</th>\n",
       "      <th>all_conversion</th>\n",
       "      <th>active_conversion</th>\n",
       "      <th>math_conversion</th>\n",
       "      <th>ARPU</th>\n",
       "      <th>ARPAU</th>\n",
       "    </tr>\n",
       "  </thead>\n",
       "  <tbody>\n",
       "    <tr>\n",
       "      <th>0</th>\n",
       "      <td>control</td>\n",
       "      <td>305</td>\n",
       "      <td>1385000</td>\n",
       "      <td>127</td>\n",
       "      <td>4.918033</td>\n",
       "      <td>11.023622</td>\n",
       "      <td>6.122449</td>\n",
       "      <td>4540.983607</td>\n",
       "      <td>10905.511811</td>\n",
       "    </tr>\n",
       "    <tr>\n",
       "      <th>1</th>\n",
       "      <td>pilot</td>\n",
       "      <td>295</td>\n",
       "      <td>3395000</td>\n",
       "      <td>96</td>\n",
       "      <td>10.847458</td>\n",
       "      <td>26.041667</td>\n",
       "      <td>9.523810</td>\n",
       "      <td>11508.474576</td>\n",
       "      <td>35364.583333</td>\n",
       "    </tr>\n",
       "  </tbody>\n",
       "</table>\n",
       "</div>"
      ],
      "text/plain": [
       "  test_grp  users_by_groups  revenue  active_users  all_conversion  \\\n",
       "0  control              305  1385000           127        4.918033   \n",
       "1    pilot              295  3395000            96       10.847458   \n",
       "\n",
       "   active_conversion  math_conversion          ARPU         ARPAU  \n",
       "0          11.023622         6.122449   4540.983607  10905.511811  \n",
       "1          26.041667         9.523810  11508.474576  35364.583333  "
      ]
     },
     "execution_count": 937,
     "metadata": {},
     "output_type": "execute_result"
    }
   ],
   "source": [
    "df_2"
   ]
  },
  {
   "cell_type": "markdown",
   "id": "53ed5036-e094-45a0-be5c-b2f15016d22b",
   "metadata": {},
   "source": [
    "Показатели рассчитывались следующим образом:\n",
    "\n",
    "ARPU - суммарная выручка / общее количество пользователей.\n",
    "\n",
    "ARPAU - суммарная выручка / количество активных пользователей.\n",
    "\n",
    "CR в покупку - (количество пользователей, совершивших покупку / общее количество пользователей) * 100%\n",
    "\n",
    "СR активного пользователя в покупку - (количество активных пользователей, совершивших покупку / количество активных пользователей) * 100%\n",
    "\n",
    "CR пользователя из активности по математике в покупку курса по математике - количество активных по математике пользователей, купивших курс / количество активных по математике пользователей\n"
   ]
  },
  {
   "cell_type": "markdown",
   "id": "0ece336a-409c-44eb-ad9b-979f5b413227",
   "metadata": {},
   "source": [
    "### Задание 3. Python"
   ]
  },
  {
   "cell_type": "markdown",
   "id": "89411465-e7c6-497d-9649-7621584861c0",
   "metadata": {},
   "source": [
    "#### 3.1 Задача\n",
    "\n",
    "    Реализуйте функцию, которая будет автоматически подгружать информацию из дополнительного файла groups_add.csv (заголовки могут отличаться) и на основании дополнительных параметров пересчитывать метрики.\n",
    "    Реализуйте функцию, которая будет строить графики по получаемым метрикам."
   ]
  },
  {
   "cell_type": "markdown",
   "id": "a37a3484-e16e-4390-b759-66884674e1cf",
   "metadata": {},
   "source": [
    "#### Функция data_update принимает 1 параметр: сслыку на файл с дополнительными данными. "
   ]
  },
  {
   "cell_type": "code",
   "execution_count": 938,
   "id": "be34e9d5-366b-4554-b73f-a16f88b48181",
   "metadata": {},
   "outputs": [],
   "source": [
    "def data_update(add_file):\n",
    "    df1_path = 'Проект_2_groups.csv'\n",
    "    df3_path = 'Проект_2_active_studs.csv'\n",
    "    df4_path = 'Проект_2_checks.csv'\n",
    "    column_names = ['id', 'grp']\n",
    "    df_add_groups = pd.read_csv(add_file, names=column_names, header=None)\n",
    "    df_groups = pd.read_csv(df1_path, sep = ';')\n",
    "    df_users = pd.concat([df_groups, df_add_groups], ignore_index=True, sort=False)\n",
    "    df_active = pd.read_csv(df3_path)\n",
    "    df_checks = pd.read_csv(df4_path, sep = ';')\n",
    "    df_users.rename(columns={'id' : 'student_id'}, inplace=True)\n",
    "    df_active_users = df_active.merge(df_users, how = 'left', on = 'student_id')\n",
    "    df_active_users = df_active_users.merge(df_checks, how = 'left', on = 'student_id')\n",
    "    df_active_users.rev =  df_active_users.rev.fillna(0)\n",
    "    df_active_users['grp'] = df_active_users['grp'].apply(lambda x: 'control' if x == 'A' else 'test')\n",
    "    ARPU = df_active_users.groupby('grp', as_index=False).agg({'rev' : 'mean'}).rename(columns = {'rev' : 'ARPU'})\n",
    "    ARPPU = df_active_users.query('rev > 0').groupby('grp', as_index=False).agg({'rev' : 'mean'}).rename(columns = {'rev' : 'ARPPU'})\n",
    "    conversion_test = df_active_users.query('rev > 0 and grp == \"test\"').student_id.nunique() / df_active_users.query('grp == \"test\"') \\\n",
    "    .student_id.nunique()\n",
    "    conversion_control = df_active_users.query('rev > 0 and grp == \"control\"').student_id.nunique() / df_active_users.query('grp == \"control\"') \\\n",
    "    .student_id.nunique()\n",
    "    conversion = pd.DataFrame({'grp' : ['control', 'test'], 'conversion' : [conversion_control, conversion_test]})\n",
    "    return ARPU, ARPPU, conversion"
   ]
  },
  {
   "cell_type": "code",
   "execution_count": 939,
   "id": "7a50c254-d6fb-40d3-a8c2-412941d02d0e",
   "metadata": {},
   "outputs": [],
   "source": [
    "ARPU, ARPPU, conversion = data_update('Проект_2_group_add.csv')"
   ]
  },
  {
   "cell_type": "markdown",
   "id": "955fd66d-d579-451d-b96a-2ef045d90631",
   "metadata": {},
   "source": [
    "#### Функция draw принимает 3 параметра: ARPU, ARPPU, конверсию. "
   ]
  },
  {
   "cell_type": "code",
   "execution_count": 940,
   "id": "7e280ea9-8709-4950-9d45-858639a332fd",
   "metadata": {},
   "outputs": [],
   "source": [
    "def draw(ARPU, ARPPU, conversion):\n",
    "    fig, axes = plt.subplots(1, 3, sharex=True, figsize=(16, 4))\n",
    "    sns.barplot(ax=axes[0], data=ARPU, x=\"grp\", y=\"ARPU\")\n",
    "    sns.barplot(ax=axes[1], data=ARPPU, x=\"grp\", y=\"ARPPU\")\n",
    "    sns.barplot(ax=axes[2], data = conversion, x = \"grp\", y = \"conversion\")"
   ]
  },
  {
   "cell_type": "code",
   "execution_count": 941,
   "id": "96612e1e-07f3-46c7-b6a7-4238eeb2d601",
   "metadata": {},
   "outputs": [
    {
     "data": {
      "image/png": "[encoded data removed]",
      "text/plain": [
       "<Figure size 1600x400 with 3 Axes>"
      ]
     },
     "metadata": {},
     "output_type": "display_data"
    }
   ],
   "source": [
    "draw(ARPU, ARPPU, conversion)"
   ]
  },
  {
   "cell_type": "code",
   "execution_count": null,
   "id": "56e701e7-10f5-4aa5-bbf9-5f7175ca07ce",
   "metadata": {},
   "outputs": [],
   "source": []
  }
 ],
 "metadata": {
  "kernelspec": {
   "display_name": "Python 3 (ipykernel)",
   "language": "python",
   "name": "python3"
  },
  "language_info": {
   "codemirror_mode": {
    "name": "ipython",
    "version": 3
   },
   "file_extension": ".py",
   "mimetype": "text/x-python",
   "name": "python",
   "nbconvert_exporter": "python",
   "pygments_lexer": "ipython3",
   "version": "3.9.12"
  }
 },
 "nbformat": 4,
 "nbformat_minor": 5
}
